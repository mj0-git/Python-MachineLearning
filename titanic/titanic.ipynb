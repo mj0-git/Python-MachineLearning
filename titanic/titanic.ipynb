{
 "cells": [
  {
   "cell_type": "markdown",
   "id": "1d347a6c",
   "metadata": {},
   "source": [
    "Meraj Patel"
   ]
  },
  {
   "cell_type": "code",
   "execution_count": 1,
   "id": "316960c7",
   "metadata": {},
   "outputs": [
    {
     "data": {
      "text/html": [
       "<div>\n",
       "<style scoped>\n",
       "    .dataframe tbody tr th:only-of-type {\n",
       "        vertical-align: middle;\n",
       "    }\n",
       "\n",
       "    .dataframe tbody tr th {\n",
       "        vertical-align: top;\n",
       "    }\n",
       "\n",
       "    .dataframe thead th {\n",
       "        text-align: right;\n",
       "    }\n",
       "</style>\n",
       "<table border=\"1\" class=\"dataframe\">\n",
       "  <thead>\n",
       "    <tr style=\"text-align: right;\">\n",
       "      <th></th>\n",
       "      <th>PassengerId</th>\n",
       "      <th>Survived</th>\n",
       "      <th>Pclass</th>\n",
       "      <th>Name</th>\n",
       "      <th>Sex</th>\n",
       "      <th>Age</th>\n",
       "      <th>SibSp</th>\n",
       "      <th>Parch</th>\n",
       "      <th>Ticket</th>\n",
       "      <th>Fare</th>\n",
       "      <th>Cabin</th>\n",
       "      <th>Embarked</th>\n",
       "    </tr>\n",
       "  </thead>\n",
       "  <tbody>\n",
       "    <tr>\n",
       "      <th>0</th>\n",
       "      <td>1</td>\n",
       "      <td>0</td>\n",
       "      <td>3</td>\n",
       "      <td>Braund, Mr. Owen Harris</td>\n",
       "      <td>male</td>\n",
       "      <td>22.0</td>\n",
       "      <td>1</td>\n",
       "      <td>0</td>\n",
       "      <td>A/5 21171</td>\n",
       "      <td>7.2500</td>\n",
       "      <td>NaN</td>\n",
       "      <td>S</td>\n",
       "    </tr>\n",
       "    <tr>\n",
       "      <th>1</th>\n",
       "      <td>2</td>\n",
       "      <td>1</td>\n",
       "      <td>1</td>\n",
       "      <td>Cumings, Mrs. John Bradley (Florence Briggs Th...</td>\n",
       "      <td>female</td>\n",
       "      <td>38.0</td>\n",
       "      <td>1</td>\n",
       "      <td>0</td>\n",
       "      <td>PC 17599</td>\n",
       "      <td>71.2833</td>\n",
       "      <td>C85</td>\n",
       "      <td>C</td>\n",
       "    </tr>\n",
       "    <tr>\n",
       "      <th>2</th>\n",
       "      <td>3</td>\n",
       "      <td>1</td>\n",
       "      <td>3</td>\n",
       "      <td>Heikkinen, Miss. Laina</td>\n",
       "      <td>female</td>\n",
       "      <td>26.0</td>\n",
       "      <td>0</td>\n",
       "      <td>0</td>\n",
       "      <td>STON/O2. 3101282</td>\n",
       "      <td>7.9250</td>\n",
       "      <td>NaN</td>\n",
       "      <td>S</td>\n",
       "    </tr>\n",
       "    <tr>\n",
       "      <th>3</th>\n",
       "      <td>4</td>\n",
       "      <td>1</td>\n",
       "      <td>1</td>\n",
       "      <td>Futrelle, Mrs. Jacques Heath (Lily May Peel)</td>\n",
       "      <td>female</td>\n",
       "      <td>35.0</td>\n",
       "      <td>1</td>\n",
       "      <td>0</td>\n",
       "      <td>113803</td>\n",
       "      <td>53.1000</td>\n",
       "      <td>C123</td>\n",
       "      <td>S</td>\n",
       "    </tr>\n",
       "    <tr>\n",
       "      <th>4</th>\n",
       "      <td>5</td>\n",
       "      <td>0</td>\n",
       "      <td>3</td>\n",
       "      <td>Allen, Mr. William Henry</td>\n",
       "      <td>male</td>\n",
       "      <td>35.0</td>\n",
       "      <td>0</td>\n",
       "      <td>0</td>\n",
       "      <td>373450</td>\n",
       "      <td>8.0500</td>\n",
       "      <td>NaN</td>\n",
       "      <td>S</td>\n",
       "    </tr>\n",
       "  </tbody>\n",
       "</table>\n",
       "</div>"
      ],
      "text/plain": [
       "   PassengerId  Survived  Pclass  \\\n",
       "0            1         0       3   \n",
       "1            2         1       1   \n",
       "2            3         1       3   \n",
       "3            4         1       1   \n",
       "4            5         0       3   \n",
       "\n",
       "                                                Name     Sex   Age  SibSp  \\\n",
       "0                            Braund, Mr. Owen Harris    male  22.0      1   \n",
       "1  Cumings, Mrs. John Bradley (Florence Briggs Th...  female  38.0      1   \n",
       "2                             Heikkinen, Miss. Laina  female  26.0      0   \n",
       "3       Futrelle, Mrs. Jacques Heath (Lily May Peel)  female  35.0      1   \n",
       "4                           Allen, Mr. William Henry    male  35.0      0   \n",
       "\n",
       "   Parch            Ticket     Fare Cabin Embarked  \n",
       "0      0         A/5 21171   7.2500   NaN        S  \n",
       "1      0          PC 17599  71.2833   C85        C  \n",
       "2      0  STON/O2. 3101282   7.9250   NaN        S  \n",
       "3      0            113803  53.1000  C123        S  \n",
       "4      0            373450   8.0500   NaN        S  "
      ]
     },
     "execution_count": 1,
     "metadata": {},
     "output_type": "execute_result"
    }
   ],
   "source": [
    "import numpy as np\n",
    "import seaborn as sns; sns.set(style=\"ticks\", color_codes=True) \n",
    "import sklearn.datasets as datasets\n",
    "import pandas as pd\n",
    "import matplotlib.pyplot as plt\n",
    "\n",
    "# Import train/test dataset\n",
    "train = pd.read_csv(\"train.csv\")\n",
    "test = pd.read_csv(\"test.csv\")\n",
    "\n",
    "datasets = [train, test]\n",
    "\n",
    "train.head()"
   ]
  },
  {
   "cell_type": "markdown",
   "id": "8b857002",
   "metadata": {},
   "source": [
    "### Data Overview"
   ]
  },
  {
   "cell_type": "code",
   "execution_count": 2,
   "id": "bfb2bf2a",
   "metadata": {},
   "outputs": [
    {
     "data": {
      "text/plain": [
       "(891, 12)"
      ]
     },
     "execution_count": 2,
     "metadata": {},
     "output_type": "execute_result"
    }
   ],
   "source": [
    "train.shape"
   ]
  },
  {
   "cell_type": "code",
   "execution_count": 3,
   "id": "b871f238",
   "metadata": {},
   "outputs": [
    {
     "data": {
      "text/plain": [
       "PassengerId      int64\n",
       "Survived         int64\n",
       "Pclass           int64\n",
       "Name            object\n",
       "Sex             object\n",
       "Age            float64\n",
       "SibSp            int64\n",
       "Parch            int64\n",
       "Ticket          object\n",
       "Fare           float64\n",
       "Cabin           object\n",
       "Embarked        object\n",
       "dtype: object"
      ]
     },
     "execution_count": 3,
     "metadata": {},
     "output_type": "execute_result"
    }
   ],
   "source": [
    "train.dtypes"
   ]
  },
  {
   "cell_type": "code",
   "execution_count": 4,
   "id": "385ceb4a",
   "metadata": {},
   "outputs": [
    {
     "data": {
      "text/plain": [
       "PassengerId      0\n",
       "Survived         0\n",
       "Pclass           0\n",
       "Name             0\n",
       "Sex              0\n",
       "Age            177\n",
       "SibSp            0\n",
       "Parch            0\n",
       "Ticket           0\n",
       "Fare             0\n",
       "Cabin          687\n",
       "Embarked         2\n",
       "dtype: int64"
      ]
     },
     "execution_count": 4,
     "metadata": {},
     "output_type": "execute_result"
    }
   ],
   "source": [
    "train.isna().sum()"
   ]
  },
  {
   "cell_type": "markdown",
   "id": "fb7545e3",
   "metadata": {},
   "source": [
    "__Features of interest__: \n",
    "\n",
    "Column names pertain to features of interest for our classification problem. We will split features among categorical or numerical, and begin feature extraction below. \n",
    "\n",
    "_Categorical_: [Name (title), Sex, Embarked, Pclass]\n",
    "\n",
    "_Numerical_: [Age, Fare, Parch, SibSp]\n",
    "\n",
    "Note that we will drop column 'Cabin' given excessive null values"
   ]
  },
  {
   "cell_type": "markdown",
   "id": "3c3e0a88",
   "metadata": {},
   "source": [
    "### Feature Extraction - Categorical "
   ]
  },
  {
   "cell_type": "code",
   "execution_count": 5,
   "id": "56ccc64e",
   "metadata": {},
   "outputs": [
    {
     "data": {
      "image/png": "[encoded data removed]",
      "text/plain": [
       "<Figure size 1440x432 with 3 Axes>"
      ]
     },
     "metadata": {},
     "output_type": "display_data"
    }
   ],
   "source": [
    "col_cat = ['Sex', 'Embarked','Pclass']\n",
    "fig, ax = plt.subplots(1,len(col_cat), figsize=(20,6))\n",
    "for idx, col in enumerate(col_cat):\n",
    "    sns.countplot(x=col, data=train, ax=ax[idx], hue=\"Survived\")\n",
    "\n",
    "plt.show()"
   ]
  },
  {
   "cell_type": "markdown",
   "id": "2f1ead98",
   "metadata": {},
   "source": [
    "Above reflects count plots for categorical features - Sex, Embarked, Pclass.\n",
    "Note that we set 'hue=Survived' to reflect counts of those who survived or perished per feature. The following points are noteworthy:\n",
    "\n",
    "* More females survived than males\n",
    "* Individuals who embarked from 'S' are more prone to perish\n",
    "* Individuals of class 3 are more prone to perish\n",
    "\n",
    "All three features are essential for determining survival; thus, we will include them in our model. Note that we must impute NA's for the Embarked column on our train and test file as shown below"
   ]
  },
  {
   "cell_type": "code",
   "execution_count": 6,
   "id": "bbb22c93",
   "metadata": {},
   "outputs": [],
   "source": [
    "# Impute Embarked with mode \n",
    "for dataset in datasets:\n",
    "    dataset[\"Embarked\"] = dataset[\"Embarked\"].fillna(dataset[\"Embarked\"].mode()[0])"
   ]
  },
  {
   "cell_type": "code",
   "execution_count": 7,
   "id": "d569bbfc",
   "metadata": {
    "scrolled": true
   },
   "outputs": [
    {
     "data": {
      "text/plain": [
       "Mr          517\n",
       "Miss        182\n",
       "Mrs         125\n",
       "Master       40\n",
       "Dr            7\n",
       "Rev           6\n",
       "Mlle          2\n",
       "Major         2\n",
       "Col           2\n",
       "Countess      1\n",
       "Capt          1\n",
       "Ms            1\n",
       "Sir           1\n",
       "Lady          1\n",
       "Mme           1\n",
       "Don           1\n",
       "Jonkheer      1\n",
       "Name: Title, dtype: int64"
      ]
     },
     "execution_count": 7,
     "metadata": {},
     "output_type": "execute_result"
    }
   ],
   "source": [
    "import re as re \n",
    "\n",
    "def title(name):\n",
    "    result = re.search('([A-Za-z]+)\\.', name).group(1)\n",
    "    if result:\n",
    "        return result\n",
    "    return \"\"\n",
    "\n",
    "for dataset in datasets:\n",
    "    dataset['Title'] = dataset['Name'].apply(title)\n",
    "\n",
    "train['Title'].value_counts()"
   ]
  },
  {
   "cell_type": "markdown",
   "id": "66e32ca6",
   "metadata": {},
   "source": [
    "The above reflects feature analysis for the Name column. Note that incorporating the Full Name within our model will be useless since it serves as a unique ID. Instead, the above code snippet extracts the \"title\" from each Name. We can see the majority of individuals pertain to \"Mr\", \"Miss\", and \"Mrs, while the remaining are uncommon. \n",
    "\n",
    "Below code snippet creates a Title column to capture each individual's title. If the title is not of \"Mr\", \"Miss\" or \"Mrs\", then replace it with \"Misc\" "
   ]
  },
  {
   "cell_type": "code",
   "execution_count": 8,
   "id": "764ac528",
   "metadata": {},
   "outputs": [
    {
     "data": {
      "text/plain": [
       "<AxesSubplot:xlabel='Title', ylabel='count'>"
      ]
     },
     "execution_count": 8,
     "metadata": {},
     "output_type": "execute_result"
    },
    {
     "data": {
      "image/png": "[encoded data removed]",
      "text/plain": [
       "<Figure size 432x288 with 1 Axes>"
      ]
     },
     "metadata": {},
     "output_type": "display_data"
    }
   ],
   "source": [
    "for dataset in datasets:\n",
    "    dataset['Title'] = dataset['Title'].apply(lambda x: \"Misc\" if x not in [\"Mr\",\"Miss\",\"Mrs\"] else x)\n",
    "\n",
    "sns.countplot(x=\"Title\", data=train, hue=\"Survived\")"
   ]
  },
  {
   "cell_type": "markdown",
   "id": "ca530742",
   "metadata": {},
   "source": [
    "Countplot above reflects the distribution of Survival based on our new Title feature. As shown, it is important since those prefixed with \"Mr\" are more likely to perish. Thus, we will include the Title feature within our final model "
   ]
  },
  {
   "cell_type": "markdown",
   "id": "810519e0",
   "metadata": {},
   "source": [
    "### Feature Extraction - Numerical   "
   ]
  },
  {
   "cell_type": "code",
   "execution_count": 9,
   "id": "ba0896a4",
   "metadata": {},
   "outputs": [
    {
     "data": {
      "text/html": [
       "<div>\n",
       "<style scoped>\n",
       "    .dataframe tbody tr th:only-of-type {\n",
       "        vertical-align: middle;\n",
       "    }\n",
       "\n",
       "    .dataframe tbody tr th {\n",
       "        vertical-align: top;\n",
       "    }\n",
       "\n",
       "    .dataframe thead th {\n",
       "        text-align: right;\n",
       "    }\n",
       "</style>\n",
       "<table border=\"1\" class=\"dataframe\">\n",
       "  <thead>\n",
       "    <tr style=\"text-align: right;\">\n",
       "      <th></th>\n",
       "      <th>Age</th>\n",
       "      <th>Fare</th>\n",
       "      <th>Parch</th>\n",
       "      <th>SibSp</th>\n",
       "    </tr>\n",
       "  </thead>\n",
       "  <tbody>\n",
       "    <tr>\n",
       "      <th>count</th>\n",
       "      <td>714.000000</td>\n",
       "      <td>891.000000</td>\n",
       "      <td>891.000000</td>\n",
       "      <td>891.000000</td>\n",
       "    </tr>\n",
       "    <tr>\n",
       "      <th>mean</th>\n",
       "      <td>29.699118</td>\n",
       "      <td>32.204208</td>\n",
       "      <td>0.381594</td>\n",
       "      <td>0.523008</td>\n",
       "    </tr>\n",
       "    <tr>\n",
       "      <th>std</th>\n",
       "      <td>14.526497</td>\n",
       "      <td>49.693429</td>\n",
       "      <td>0.806057</td>\n",
       "      <td>1.102743</td>\n",
       "    </tr>\n",
       "    <tr>\n",
       "      <th>min</th>\n",
       "      <td>0.420000</td>\n",
       "      <td>0.000000</td>\n",
       "      <td>0.000000</td>\n",
       "      <td>0.000000</td>\n",
       "    </tr>\n",
       "    <tr>\n",
       "      <th>25%</th>\n",
       "      <td>20.125000</td>\n",
       "      <td>7.910400</td>\n",
       "      <td>0.000000</td>\n",
       "      <td>0.000000</td>\n",
       "    </tr>\n",
       "    <tr>\n",
       "      <th>50%</th>\n",
       "      <td>28.000000</td>\n",
       "      <td>14.454200</td>\n",
       "      <td>0.000000</td>\n",
       "      <td>0.000000</td>\n",
       "    </tr>\n",
       "    <tr>\n",
       "      <th>75%</th>\n",
       "      <td>38.000000</td>\n",
       "      <td>31.000000</td>\n",
       "      <td>0.000000</td>\n",
       "      <td>1.000000</td>\n",
       "    </tr>\n",
       "    <tr>\n",
       "      <th>max</th>\n",
       "      <td>80.000000</td>\n",
       "      <td>512.329200</td>\n",
       "      <td>6.000000</td>\n",
       "      <td>8.000000</td>\n",
       "    </tr>\n",
       "  </tbody>\n",
       "</table>\n",
       "</div>"
      ],
      "text/plain": [
       "              Age        Fare       Parch       SibSp\n",
       "count  714.000000  891.000000  891.000000  891.000000\n",
       "mean    29.699118   32.204208    0.381594    0.523008\n",
       "std     14.526497   49.693429    0.806057    1.102743\n",
       "min      0.420000    0.000000    0.000000    0.000000\n",
       "25%     20.125000    7.910400    0.000000    0.000000\n",
       "50%     28.000000   14.454200    0.000000    0.000000\n",
       "75%     38.000000   31.000000    0.000000    1.000000\n",
       "max     80.000000  512.329200    6.000000    8.000000"
      ]
     },
     "execution_count": 9,
     "metadata": {},
     "output_type": "execute_result"
    }
   ],
   "source": [
    "numerical_cols = [\"Age\", \"Fare\", \"Parch\", \"SibSp\"]\n",
    "train[numerical_cols].describe()"
   ]
  },
  {
   "cell_type": "code",
   "execution_count": 10,
   "id": "9b18534a",
   "metadata": {},
   "outputs": [
    {
     "data": {
      "text/plain": [
       "<AxesSubplot:xlabel='Age', ylabel='count'>"
      ]
     },
     "execution_count": 10,
     "metadata": {},
     "output_type": "execute_result"
    },
    {
     "data": {
      "image/png": "[encoded data removed]",
      "text/plain": [
       "<Figure size 432x288 with 1 Axes>"
      ]
     },
     "metadata": {},
     "output_type": "display_data"
    }
   ],
   "source": [
    "# Impute with random num from: Age mean +- 1std\n",
    "for dataset in datasets:\n",
    "    age_avg = dataset['Age'].mean()\n",
    "    age_std = dataset['Age'].std()\n",
    "    dataset['Age'].fillna(np.random.randint(age_avg - age_std, age_avg + age_std), inplace=True)\n",
    "\n",
    "def adjust_age(x):\n",
    "    if x < 16: \n",
    "        return \"0-16\"\n",
    "    elif  28 > x >= 16:\n",
    "        return \"16-28\"\n",
    "    elif 40 > x >= 28:\n",
    "        return \"28-40\"\n",
    "    elif x >= 40:\n",
    "        return \"40+\"\n",
    "\n",
    "for dataset in datasets:\n",
    "    dataset['Age'] = dataset[\"Age\"].apply(adjust_age)\n",
    "\n",
    "sns.countplot(x=\"Age\", data=train, hue=\"Survived\", order=[\"0-16\", \"16-28\", \"28-40\", \"40+\"])"
   ]
  },
  {
   "cell_type": "markdown",
   "id": "fc698d63",
   "metadata": {},
   "source": [
    "The above code snippet reflects feature extraction for the Age column. First, we impute null Age values by randomly selecting a number between the mean of age plus or minus one standard deviation. Then proceed to categorize age by quantiles - 0-16, 16-28, 28-40, and 40+. The intent is to generalize the feature and reflect survival rates per age group. As shown, individuals in groups 16-28 and 28-40 are associated with lower survival rates."
   ]
  },
  {
   "cell_type": "code",
   "execution_count": 11,
   "id": "3a2eba68",
   "metadata": {},
   "outputs": [
    {
     "data": {
      "image/png": "[encoded data removed]",
      "text/plain": [
       "<Figure size 432x288 with 1 Axes>"
      ]
     },
     "metadata": {},
     "output_type": "display_data"
    }
   ],
   "source": [
    "# Anaylsis: Parch + SibSp\n",
    "family_size = pd.DataFrame().assign(Survived=train.Survived, family_size = train[\"Parch\"] + train[\"SibSp\"])\n",
    "sns.countplot(x=\"family_size\", data=family_size, hue=\"Survived\")\n",
    "\n",
    "# Create feature Alone\n",
    "train[\"Alone\"] = family_size.family_size.map(lambda x: 0 if (x == 0) else 1)\n",
    "family_size = test[\"Parch\"] + test[\"SibSp\"]\n",
    "test[\"Alone\"] = family_size.map(lambda x: 0 if (x == 0) else 1)"
   ]
  },
  {
   "cell_type": "markdown",
   "id": "422352f4",
   "metadata": {},
   "source": [
    "Above reflects the analysis and feature engineering of columns 'Parch' and 'SibSp'. Parch refers to the number of parents abroad, and Sibsp refers to the number of siblings abroad. We can add both features and store the result in a new column, \"family_size\" Then, create a count plot to distinguish survival rates depending on family size. As shown, those traveling alone (family_size=0) are more prone to perish. Thus to simplify even further, we created an \"Alone\" column to indicate if an individual is traveling alone (binary value). We will include this column within our final model and discard \"Parch\" and \"SibSp\"."
   ]
  },
  {
   "cell_type": "code",
   "execution_count": 12,
   "id": "4cd78a72",
   "metadata": {},
   "outputs": [
    {
     "data": {
      "text/plain": [
       "<AxesSubplot:xlabel='Fare', ylabel='count'>"
      ]
     },
     "execution_count": 12,
     "metadata": {},
     "output_type": "execute_result"
    },
    {
     "data": {
      "image/png": "[encoded data removed]",
      "text/plain": [
       "<Figure size 432x288 with 1 Axes>"
      ]
     },
     "metadata": {},
     "output_type": "display_data"
    }
   ],
   "source": [
    "# Anaylsis: Fare\n",
    "def adjust_fare(x):\n",
    "    if(x < 8):\n",
    "        return \"0-8\"\n",
    "    elif(24 > x >= 8):\n",
    "        return \"8-24\"\n",
    "    elif(35 > x >= 24):\n",
    "        return \"24-35\"\n",
    "    else:\n",
    "        return \"35+\"\n",
    "    \n",
    "for dataset in datasets:\n",
    "    dataset['Fare'] = dataset[\"Fare\"].apply(adjust_fare)\n",
    "    dataset['Fare'].fillna(dataset[\"Fare\"].mode()[0], inplace=True) # Impute null with mode\n",
    "\n",
    "sns.countplot(x=\"Fare\", data=train, hue=\"Survived\", order=[\"0-8\", \"8-24\", \"24-35\", \"35+\"])"
   ]
  },
  {
   "cell_type": "markdown",
   "id": "81536b7e",
   "metadata": {},
   "source": [
    "Our last feature of interest is \"Fare\". Like age, we further generalize this feature by utilizing quartiles. Specifically, binning individuals per fare groups: 0-8, 8-24, 24-35, and 35+. Based on the count plot, those who paid a cheaper fare are more prone to perish."
   ]
  },
  {
   "cell_type": "markdown",
   "id": "53f97a2e",
   "metadata": {},
   "source": [
    "### Preprocessing & Model Evaluation"
   ]
  },
  {
   "cell_type": "code",
   "execution_count": 13,
   "id": "71c1f550",
   "metadata": {},
   "outputs": [],
   "source": [
    "# Ordinal: Fare, pclass\n",
    "train[\"Fare\"].replace({\"0-8\":0, \"8-24\":1, \"24-35\":2, \"35+\":3}, inplace=True)\n",
    "test[\"Fare\"].replace({\"0-8\":0, \"8-24\":1, \"24-35\":2, \"35+\":3}, inplace=True)\n",
    "\n",
    "# Nominal: Title, Embarked, Sex, Age\n",
    "train = pd.get_dummies(train, columns=['Title','Embarked', 'Sex', 'Age'])\n",
    "test = pd.get_dummies(test, columns=['Title','Embarked', 'Sex', 'Age'])\n",
    "\n",
    "# Drop columns create train test sets\n",
    "y_train = np.array(train.Survived)\n",
    "X_train = np.array(train.drop(columns=[\"Survived\",\"PassengerId\", \"Name\", \"Ticket\", \"SibSp\", \"Parch\", \"Cabin\"]))\n",
    "X_test = np.array(test.drop(columns=[\"PassengerId\", \"Name\", \"Ticket\", \"SibSp\", \"Parch\", \"Cabin\"]))"
   ]
  },
  {
   "cell_type": "markdown",
   "id": "bc4540c5",
   "metadata": {},
   "source": [
    "The above reflects preprocessing for our selected features: [Sex, Embarked, Pclass, Title, Age, Fare]\n",
    "\n",
    "Note that Fare and pclass are ordinal while the remaining are nominal (thus apply one-hot encoding via pd.get_dummies) "
   ]
  },
  {
   "cell_type": "code",
   "execution_count": 14,
   "id": "6e4afdd6",
   "metadata": {},
   "outputs": [
    {
     "name": "stdout",
     "output_type": "stream",
     "text": [
      "          GaussianNB Stratified 10-fold CV acc=0.788 with 10 iterations\n",
      "RandomForestClassifier Stratified 10-fold CV acc=0.827 with 10 iterations\n",
      "                 SVC Stratified 10-fold CV acc=0.803 with 10 iterations\n",
      "DecisionTreeClassifier Stratified 10-fold CV acc=0.819 with 10 iterations\n"
     ]
    }
   ],
   "source": [
    "from sklearn.model_selection import StratifiedKFold\n",
    "from sklearn.metrics import accuracy_score\n",
    "from sklearn.svm import SVC\n",
    "from sklearn.naive_bayes import GaussianNB\n",
    "from sklearn.ensemble import RandomForestClassifier\n",
    "from sklearn.tree import DecisionTreeClassifier\n",
    "\n",
    "def evaluate_model(_model, _X, _y, _niter, text=''):\n",
    "    accs = []\n",
    "    kf = StratifiedKFold(n_splits=10, shuffle=False)\n",
    "    for train_idx, test_idx in kf.split(_X, _y):\n",
    "        model = _model.fit(_X[train_idx], _y[train_idx])\n",
    "        y_pred = model.predict(_X[test_idx])\n",
    "        accs.append(accuracy_score(_y[test_idx], y_pred))\n",
    "    \n",
    "    print(f'{text:>20s} Stratified 10-fold CV acc={np.mean(accs):.3f} with {_niter} iterations')\n",
    "\n",
    "evaluate_model(GaussianNB(), X_train, y_train, 10, 'GaussianNB')  \n",
    "evaluate_model(RandomForestClassifier(max_depth=None, max_features='auto'), X_train, y_train, 10, 'RandomForestClassifier')  \n",
    "evaluate_model(SVC(class_weight='balanced', kernel='rbf', gamma=2, C=2), X_train, y_train, 10, 'SVC') \n",
    "evaluate_model(DecisionTreeClassifier(), X_train, y_train, 10, 'DecisionTreeClassifier')"
   ]
  },
  {
   "cell_type": "markdown",
   "id": "df6d2dbb",
   "metadata": {},
   "source": [
    "The above snippet evaluates accuracy among four classification models via stratified K fold cross-validation. The RandomForestClassifier yields the highest accuracy; thus, we will use said model for evaluation on the test dataset."
   ]
  },
  {
   "cell_type": "code",
   "execution_count": 15,
   "id": "1ed9c6ab",
   "metadata": {},
   "outputs": [
    {
     "name": "stdout",
     "output_type": "stream",
     "text": [
      "RandomForestClassifier Accuracy score on Train: 87.43%\n",
      "Kaggle submission score: 0.78229\n"
     ]
    }
   ],
   "source": [
    "# Random Forest\n",
    "model = RandomForestClassifier(max_depth=None, max_features='auto')\n",
    "model.fit(X_train, y_train)\n",
    "Y_pred = model.predict(X_test)\n",
    "print(f\"RandomForestClassifier Accuracy score on Train: {round(model.score(X_train, y_train) * 100, 2)}%\" )\n",
    "\n",
    "output = pd.DataFrame({'PassengerId': test.PassengerId,\n",
    "                       'Survived': Y_pred})\n",
    "output.to_csv('submission.csv', index=False)\n",
    "print(\"Kaggle submission score: 0.78229\" )"
   ]
  },
  {
   "cell_type": "code",
   "execution_count": null,
   "id": "ad6c850e",
   "metadata": {},
   "outputs": [],
   "source": []
  }
 ],
 "metadata": {
  "kernelspec": {
   "display_name": "Python 3 (ipykernel)",
   "language": "python",
   "name": "python3"
  },
  "language_info": {
   "codemirror_mode": {
    "name": "ipython",
    "version": 3
   },
   "file_extension": ".py",
   "mimetype": "text/x-python",
   "name": "python",
   "nbconvert_exporter": "python",
   "pygments_lexer": "ipython3",
   "version": "3.9.7"
  }
 },
 "nbformat": 4,
 "nbformat_minor": 5
}
