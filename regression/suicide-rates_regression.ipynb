{
 "cells": [
  {
   "cell_type": "markdown",
   "id": "1d347a6c",
   "metadata": {},
   "source": [
    "Meraj Patel"
   ]
  },
  {
   "cell_type": "code",
   "execution_count": 1,
   "id": "316960c7",
   "metadata": {},
   "outputs": [
    {
     "data": {
      "text/html": [
       "<div>\n",
       "<style scoped>\n",
       "    .dataframe tbody tr th:only-of-type {\n",
       "        vertical-align: middle;\n",
       "    }\n",
       "\n",
       "    .dataframe tbody tr th {\n",
       "        vertical-align: top;\n",
       "    }\n",
       "\n",
       "    .dataframe thead th {\n",
       "        text-align: right;\n",
       "    }\n",
       "</style>\n",
       "<table border=\"1\" class=\"dataframe\">\n",
       "  <thead>\n",
       "    <tr style=\"text-align: right;\">\n",
       "      <th></th>\n",
       "      <th>country</th>\n",
       "      <th>year</th>\n",
       "      <th>sex</th>\n",
       "      <th>age</th>\n",
       "      <th>suicides_no</th>\n",
       "      <th>population</th>\n",
       "      <th>suicides/100k_pop</th>\n",
       "      <th>country-year</th>\n",
       "      <th>HDI_for_year</th>\n",
       "      <th>gdp_for_year</th>\n",
       "      <th>gdp_per_capita</th>\n",
       "      <th>generation</th>\n",
       "    </tr>\n",
       "  </thead>\n",
       "  <tbody>\n",
       "    <tr>\n",
       "      <th>0</th>\n",
       "      <td>Albania</td>\n",
       "      <td>1987</td>\n",
       "      <td>male</td>\n",
       "      <td>15-24 years</td>\n",
       "      <td>21</td>\n",
       "      <td>312900</td>\n",
       "      <td>6.71</td>\n",
       "      <td>Albania1987</td>\n",
       "      <td>NaN</td>\n",
       "      <td>2,156,624,900</td>\n",
       "      <td>796</td>\n",
       "      <td>Generation X</td>\n",
       "    </tr>\n",
       "    <tr>\n",
       "      <th>1</th>\n",
       "      <td>Albania</td>\n",
       "      <td>1987</td>\n",
       "      <td>male</td>\n",
       "      <td>35-54 years</td>\n",
       "      <td>16</td>\n",
       "      <td>308000</td>\n",
       "      <td>5.19</td>\n",
       "      <td>Albania1987</td>\n",
       "      <td>NaN</td>\n",
       "      <td>2,156,624,900</td>\n",
       "      <td>796</td>\n",
       "      <td>Silent</td>\n",
       "    </tr>\n",
       "    <tr>\n",
       "      <th>2</th>\n",
       "      <td>Albania</td>\n",
       "      <td>1987</td>\n",
       "      <td>female</td>\n",
       "      <td>15-24 years</td>\n",
       "      <td>14</td>\n",
       "      <td>289700</td>\n",
       "      <td>4.83</td>\n",
       "      <td>Albania1987</td>\n",
       "      <td>NaN</td>\n",
       "      <td>2,156,624,900</td>\n",
       "      <td>796</td>\n",
       "      <td>Generation X</td>\n",
       "    </tr>\n",
       "    <tr>\n",
       "      <th>3</th>\n",
       "      <td>Albania</td>\n",
       "      <td>1987</td>\n",
       "      <td>male</td>\n",
       "      <td>75+ years</td>\n",
       "      <td>1</td>\n",
       "      <td>21800</td>\n",
       "      <td>4.59</td>\n",
       "      <td>Albania1987</td>\n",
       "      <td>NaN</td>\n",
       "      <td>2,156,624,900</td>\n",
       "      <td>796</td>\n",
       "      <td>G.I. Generation</td>\n",
       "    </tr>\n",
       "    <tr>\n",
       "      <th>4</th>\n",
       "      <td>Albania</td>\n",
       "      <td>1987</td>\n",
       "      <td>male</td>\n",
       "      <td>25-34 years</td>\n",
       "      <td>9</td>\n",
       "      <td>274300</td>\n",
       "      <td>3.28</td>\n",
       "      <td>Albania1987</td>\n",
       "      <td>NaN</td>\n",
       "      <td>2,156,624,900</td>\n",
       "      <td>796</td>\n",
       "      <td>Boomers</td>\n",
       "    </tr>\n",
       "  </tbody>\n",
       "</table>\n",
       "</div>"
      ],
      "text/plain": [
       "   country  year     sex          age  suicides_no  population  \\\n",
       "0  Albania  1987    male  15-24 years           21      312900   \n",
       "1  Albania  1987    male  35-54 years           16      308000   \n",
       "2  Albania  1987  female  15-24 years           14      289700   \n",
       "3  Albania  1987    male    75+ years            1       21800   \n",
       "4  Albania  1987    male  25-34 years            9      274300   \n",
       "\n",
       "   suicides/100k_pop country-year  HDI_for_year   gdp_for_year  \\\n",
       "0               6.71  Albania1987           NaN  2,156,624,900   \n",
       "1               5.19  Albania1987           NaN  2,156,624,900   \n",
       "2               4.83  Albania1987           NaN  2,156,624,900   \n",
       "3               4.59  Albania1987           NaN  2,156,624,900   \n",
       "4               3.28  Albania1987           NaN  2,156,624,900   \n",
       "\n",
       "   gdp_per_capita       generation  \n",
       "0             796     Generation X  \n",
       "1             796           Silent  \n",
       "2             796     Generation X  \n",
       "3             796  G.I. Generation  \n",
       "4             796          Boomers  "
      ]
     },
     "execution_count": 1,
     "metadata": {},
     "output_type": "execute_result"
    }
   ],
   "source": [
    "import numpy as np\n",
    "import seaborn as sns; sns.set(style=\"ticks\", color_codes=True) \n",
    "import sklearn.datasets as datasets\n",
    "import pandas as pd\n",
    "import matplotlib.pyplot as plt\n",
    "\n",
    "# Import dataset\n",
    "dataset = pd.read_csv(\"master.csv\")\n",
    "\n",
    "# Rename columns\n",
    "dataset.rename(columns={\"suicides/100k pop\": \"suicides/100k_pop\", \"HDI for year\":\"HDI_for_year\", \" gdp_for_year ($) \":\"gdp_for_year\", \n",
    "                   \"gdp_per_capita ($)\":\"gdp_per_capita\"}, inplace=True)\n",
    "\n",
    "dataset.head()"
   ]
  },
  {
   "cell_type": "markdown",
   "id": "feb92ea9",
   "metadata": {},
   "source": [
    "### Data Overview"
   ]
  },
  {
   "cell_type": "code",
   "execution_count": 2,
   "id": "edd051bb",
   "metadata": {
    "scrolled": true
   },
   "outputs": [
    {
     "data": {
      "text/plain": [
       "(27820, 12)"
      ]
     },
     "execution_count": 2,
     "metadata": {},
     "output_type": "execute_result"
    }
   ],
   "source": [
    "dataset.shape"
   ]
  },
  {
   "cell_type": "code",
   "execution_count": 3,
   "id": "c1bc4a58",
   "metadata": {
    "scrolled": true
   },
   "outputs": [
    {
     "data": {
      "text/plain": [
       "country                  0\n",
       "year                     0\n",
       "sex                      0\n",
       "age                      0\n",
       "suicides_no              0\n",
       "population               0\n",
       "suicides/100k_pop        0\n",
       "country-year             0\n",
       "HDI_for_year         19456\n",
       "gdp_for_year             0\n",
       "gdp_per_capita           0\n",
       "generation               0\n",
       "dtype: int64"
      ]
     },
     "execution_count": 3,
     "metadata": {},
     "output_type": "execute_result"
    }
   ],
   "source": [
    "dataset.isna().sum()"
   ]
  },
  {
   "cell_type": "markdown",
   "id": "0b81d6a5",
   "metadata": {},
   "source": [
    "__Drop Columns:__\n",
    "* HDI_for_year\n",
    "* year\n",
    "* country-year\n",
    "* suicides_no\n",
    "* gdp_for_year"
   ]
  },
  {
   "cell_type": "code",
   "execution_count": 4,
   "id": "f78f4ec2",
   "metadata": {},
   "outputs": [],
   "source": [
    "drop_cols = ['HDI_for_year', 'country-year', 'suicides_no', 'gdp_for_year', 'year']\n",
    "dataset.drop(columns=drop_cols, inplace=True)"
   ]
  },
  {
   "cell_type": "code",
   "execution_count": 5,
   "id": "4d598e2c",
   "metadata": {},
   "outputs": [
    {
     "data": {
      "text/plain": [
       "country               object\n",
       "sex                   object\n",
       "age                   object\n",
       "population             int64\n",
       "suicides/100k_pop    float64\n",
       "gdp_per_capita         int64\n",
       "generation            object\n",
       "dtype: object"
      ]
     },
     "execution_count": 5,
     "metadata": {},
     "output_type": "execute_result"
    }
   ],
   "source": [
    "dataset.dtypes"
   ]
  },
  {
   "cell_type": "markdown",
   "id": "e28f5aa6",
   "metadata": {},
   "source": [
    "## Apply onehot encoding and predict the target variable for the people with age 20, male, and generation X"
   ]
  },
  {
   "cell_type": "markdown",
   "id": "ca8b250a",
   "metadata": {},
   "source": [
    "Below subsets dataset and creates a test set, _df_test_ consisting of males, age 20 of generation X. The test set consists of 30% of said individuals in the dataset. Also, create train dataset, _df_ by dropping test set records from the dataset."
   ]
  },
  {
   "cell_type": "code",
   "execution_count": 6,
   "id": "4b1847b8",
   "metadata": {},
   "outputs": [],
   "source": [
    "df_20_m_x = dataset[ (dataset['sex'] == \"male\") & (dataset['age'] == \"15-24 years\") & (dataset['generation'] == 'Generation X')].copy()\n",
    "\n",
    "# Test dataset - df_test\n",
    "df_test = df_20_m_x.sample(n=int(df_20_m_x.shape[0]*0.3), random_state=40)\n",
    "\n",
    "# Train dataset - df\n",
    "df = dataset.drop(df_test.index, axis=0).copy()\n",
    "\n",
    "# Reset index\n",
    "df.reset_index(inplace=True)\n",
    "df_test.reset_index(inplace=True)"
   ]
  },
  {
   "cell_type": "markdown",
   "id": "3d84f3d5",
   "metadata": {},
   "source": [
    "### Preprocessing"
   ]
  },
  {
   "cell_type": "markdown",
   "id": "4e34d5cb",
   "metadata": {},
   "source": [
    "Split features among numerical and categorical as shown below"
   ]
  },
  {
   "cell_type": "code",
   "execution_count": 7,
   "id": "82630cc8",
   "metadata": {},
   "outputs": [],
   "source": [
    "cat_cols = ['sex', 'age', 'country', 'generation']\n",
    "num_cols = ['population', 'gdp_per_capita']"
   ]
  },
  {
   "cell_type": "markdown",
   "id": "21f94a38",
   "metadata": {},
   "source": [
    "Preprocess data via pipeline: \n",
    "1. Apply MinMax scaler to numerical features\n",
    "2. Apply One Hot Encoding to categorical features"
   ]
  },
  {
   "cell_type": "code",
   "execution_count": 8,
   "id": "8d2b9cdf",
   "metadata": {},
   "outputs": [],
   "source": [
    "from sklearn.compose import ColumnTransformer\n",
    "from sklearn.pipeline import Pipeline\n",
    "from sklearn.preprocessing import OneHotEncoder, MinMaxScaler\n",
    "from sklearn.metrics import mean_absolute_error\n",
    "\n",
    "numeric_transformer = Pipeline(steps=[\n",
    "    ('scaler', MinMaxScaler())\n",
    "])\n",
    "categorical_transformer = Pipeline(steps=[\n",
    "    ('onehot', OneHotEncoder())\n",
    "])\n",
    "\n",
    "preprocessor = ColumnTransformer(\n",
    "    transformers = [\n",
    "        ('num', numeric_transformer, num_cols),\n",
    "        ('cat',categorical_transformer, cat_cols )\n",
    "    ]\n",
    ")\n",
    "\n",
    "pipeline = Pipeline(steps=[('preprocessor', preprocessor)])\n",
    "\n",
    "# Train\n",
    "X_train = df.drop(columns=['suicides/100k_pop'])\n",
    "y_train = df['suicides/100k_pop']\n",
    "\n",
    "# Test\n",
    "X_test = df_test.drop(columns=['suicides/100k_pop'])\n",
    "y_test = df_test['suicides/100k_pop']\n",
    "\n",
    "# Fit and transform via train\n",
    "X_train = pipeline.fit_transform(X_train)\n",
    "\n",
    "# Transform test \n",
    "X_test = pipeline.transform(X_test)\n"
   ]
  },
  {
   "cell_type": "code",
   "execution_count": 9,
   "id": "227ec2bc",
   "metadata": {},
   "outputs": [],
   "source": [
    "from sklearn.linear_model import LinearRegression\n",
    "from sklearn.model_selection import train_test_split\n",
    "import matplotlib.pyplot as plt \n",
    "\n",
    "model = LinearRegression()\n",
    "model.fit(X_train, y_train)\n",
    "y_pred = model.predict(X_test)"
   ]
  },
  {
   "cell_type": "code",
   "execution_count": 10,
   "id": "54efb58f",
   "metadata": {},
   "outputs": [
    {
     "data": {
      "text/plain": [
       "Text(0, 0.5, 'Absolute Error')"
      ]
     },
     "execution_count": 10,
     "metadata": {},
     "output_type": "execute_result"
    },
    {
     "data": {
      "image/png": "[encoded data removed]",
      "text/plain": [
       "<Figure size 432x288 with 1 Axes>"
      ]
     },
     "metadata": {},
     "output_type": "display_data"
    }
   ],
   "source": [
    "plt.scatter(y_pred, abs(y_pred - y_test))\n",
    "plt.xlabel('Predicted Value')\n",
    "plt.ylabel(\"Absolute Error\")"
   ]
  },
  {
   "cell_type": "code",
   "execution_count": 11,
   "id": "80616ecb",
   "metadata": {},
   "outputs": [
    {
     "data": {
      "text/plain": [
       "0.41909796664361854"
      ]
     },
     "execution_count": 11,
     "metadata": {},
     "output_type": "execute_result"
    }
   ],
   "source": [
    "model.score(X_test, y_test)"
   ]
  },
  {
   "cell_type": "markdown",
   "id": "c454cc56",
   "metadata": {},
   "source": [
    "### What is the MAE error of this prediction?"
   ]
  },
  {
   "cell_type": "code",
   "execution_count": 12,
   "id": "29d695bf",
   "metadata": {},
   "outputs": [
    {
     "data": {
      "text/plain": [
       "6.858413949958673"
      ]
     },
     "execution_count": 12,
     "metadata": {},
     "output_type": "execute_result"
    }
   ],
   "source": [
    "mean_absolute_error(y_test, y_pred)"
   ]
  },
  {
   "cell_type": "markdown",
   "id": "0fbc13c3",
   "metadata": {},
   "source": [
    "### How many regression coefficients are there?"
   ]
  },
  {
   "cell_type": "markdown",
   "id": "2262b539",
   "metadata": {},
   "source": [
    "Model yields 117 regression coefficients - provided our preprocessing pipeline created 117 features. "
   ]
  },
  {
   "cell_type": "code",
   "execution_count": 13,
   "id": "2712b69a",
   "metadata": {},
   "outputs": [
    {
     "data": {
      "text/plain": [
       "array([  5.39604822, -13.51169454,  -7.46601233,   7.46601234,\n",
       "        -2.95574077,  -0.34346069,   1.89335699, -11.69959517,\n",
       "         2.94639427,  10.15904537,  -9.89442074, -11.89546459,\n",
       "        -2.55838206, -10.04777408,  -1.27530026,   2.61618878,\n",
       "        13.7194736 , -11.61908401,  -9.47116805,  -9.68082596,\n",
       "        -9.36417339,  17.8885351 ,  11.03877234,  -6.83283206,\n",
       "        -8.12731658,  -8.67082166,   6.37478233,  -1.66029269,\n",
       "         1.73256562,  -2.36670052,  -8.16411178,  -6.01947214,\n",
       "        10.45674314,   8.29371279,  -7.2196081 ,   6.28053029,\n",
       "         5.908263  , -14.15733833,  -7.08644668,  -2.78813278,\n",
       "        15.0799211 ,  -7.74985145,  12.76718207,  11.01382106,\n",
       "        -9.03470155,   5.09507776,  -7.75296693, -10.80292812,\n",
       "       -10.23966172,   8.79647011,  20.31780093,   3.20720733,\n",
       "         0.69750544,  -2.23689732,  -2.81248163, -12.83098527,\n",
       "        10.90724357,  17.40948546,  -6.99133548,  -9.32076072,\n",
       "         0.82622638,  16.79184139,  27.87861285,  10.31783778,\n",
       "         3.31495574, -11.40447747,  -7.0781634 ,  -1.41975804,\n",
       "        -9.05025814,   3.40085143,  -2.79867916,   0.77067379,\n",
       "         2.70589214,  -6.53746067,   5.38747871, -10.41585376,\n",
       "        -7.03958965,  -9.1483465 , -11.60482192,   2.35192676,\n",
       "        -0.90090647,  -1.43856795,  -4.33612593,  12.78102615,\n",
       "        -0.7307337 ,  20.67670716, -13.276282  ,  -5.76695326,\n",
       "        -7.22203167,  -3.75485026,   9.22557037,  -4.82241171,\n",
       "         7.60651022,   0.19055811,  16.42541377, -12.22886375,\n",
       "        -2.22114205,  21.58179092,   8.27655504,   5.3873313 ,\n",
       "        12.29903415,  -6.82127139,   1.00401716, -10.32713638,\n",
       "        -4.76625154,  12.89887557,  -7.56346102,  -3.23892434,\n",
       "         1.69538654,   6.72669973,  -5.53749618,  -0.08650673,\n",
       "         2.17438189,  -0.55911391,   0.08969456,  -1.34482917,\n",
       "        -0.27362663])"
      ]
     },
     "execution_count": 13,
     "metadata": {},
     "output_type": "execute_result"
    }
   ],
   "source": [
    "model.coef_"
   ]
  },
  {
   "cell_type": "code",
   "execution_count": 14,
   "id": "697ea9df",
   "metadata": {},
   "outputs": [
    {
     "data": {
      "text/plain": [
       "117"
      ]
     },
     "execution_count": 14,
     "metadata": {},
     "output_type": "execute_result"
    }
   ],
   "source": [
    "len(model.coef_)"
   ]
  },
  {
   "cell_type": "markdown",
   "id": "6d75d7df",
   "metadata": {},
   "source": [
    "## Convert nominal to numerical and predict the target value for the people with age 20, male, and generation X"
   ]
  },
  {
   "cell_type": "markdown",
   "id": "2a94e9e8",
   "metadata": {},
   "source": [
    "Below subsets dataset and creates a test set _df_test_ consisting of males, age 20 of generation X. The test set consists of 30% of said individuals in the dataset. Also, create train dataset _df_ by dropping test set records from the dataset."
   ]
  },
  {
   "cell_type": "code",
   "execution_count": 15,
   "id": "9e71747f",
   "metadata": {
    "scrolled": true
   },
   "outputs": [],
   "source": [
    "df_20_m_x = dataset[ (dataset['sex'] == \"male\") & (dataset['age'] == \"15-24 years\") & (dataset['generation'] == 'Generation X')].copy()\n",
    "\n",
    "# Test dataset - df_test\n",
    "df_test = df_20_m_x.sample(n=int(df_20_m_x.shape[0]*0.3), random_state=40)\n",
    "\n",
    "# Train dataset - df\n",
    "df = dataset.drop(df_test.index, axis=0).copy()\n",
    "\n",
    "# Reset index\n",
    "df.reset_index(inplace=True, drop=True)\n",
    "df_test.reset_index(inplace=True, drop=True)"
   ]
  },
  {
   "cell_type": "markdown",
   "id": "3d427f0f",
   "metadata": {},
   "source": [
    "### Preprocessing"
   ]
  },
  {
   "cell_type": "markdown",
   "id": "73e08aa6",
   "metadata": {},
   "source": [
    "__Replace country with numeric__"
   ]
  },
  {
   "cell_type": "markdown",
   "id": "34913caa",
   "metadata": {},
   "source": [
    "Replace country with numeric depicting rank in terms of mean suicides/100k_pop discovered in train dataset. I.e., provided 101 countries, 'Saint Kitts and Nevis' assigned rank 0 (lowest mean in suicides/100k_pop) and 'Lithuania' assigned rank 100 (highest mean in suicides/100k_pop)"
   ]
  },
  {
   "cell_type": "code",
   "execution_count": 16,
   "id": "b2175bbf",
   "metadata": {
    "scrolled": true
   },
   "outputs": [],
   "source": [
    "c_rank = df.groupby('country')['suicides/100k_pop'].mean().sort_values()\n",
    "c_rank.values[:] = np.arange(c_rank.shape[0])\n",
    "c_rank_dic = c_rank.astype(int).to_dict()"
   ]
  },
  {
   "cell_type": "code",
   "execution_count": 17,
   "id": "e84f656c",
   "metadata": {},
   "outputs": [],
   "source": [
    "df.replace({\"country\": c_rank_dic}, inplace=True)\n",
    "df_test.replace({\"country\": c_rank_dic}, inplace=True)"
   ]
  },
  {
   "cell_type": "markdown",
   "id": "d2ddfd96",
   "metadata": {},
   "source": [
    "__Replace generation with numeric__"
   ]
  },
  {
   "cell_type": "markdown",
   "id": "f90c643d",
   "metadata": {},
   "source": [
    "Replace generation with numeric depicitng order of generations"
   ]
  },
  {
   "cell_type": "code",
   "execution_count": 18,
   "id": "07599730",
   "metadata": {},
   "outputs": [],
   "source": [
    "gen_rank = {'Generation Z':1, 'Millenials':2, 'Generation X':3, 'Boomers':4,'Silent':5, 'G.I. Generation':6}\n",
    "df.replace({'generation':gen_rank}, inplace=True)\n",
    "df_test.replace({'generation':gen_rank}, inplace=True)"
   ]
  },
  {
   "cell_type": "markdown",
   "id": "831d3948",
   "metadata": {},
   "source": [
    "__Create numeric variable rank__"
   ]
  },
  {
   "cell_type": "markdown",
   "id": "5a606b39",
   "metadata": {},
   "source": [
    "The plot below depicts a higher mean rate of suicides/100k_pop for males than females. Additionally, older age groups are associated with higher rates of suicides. "
   ]
  },
  {
   "cell_type": "code",
   "execution_count": 19,
   "id": "90238494",
   "metadata": {},
   "outputs": [
    {
     "data": {
      "text/plain": [
       "<AxesSubplot:xlabel='age', ylabel='suicides/100k_pop'>"
      ]
     },
     "execution_count": 19,
     "metadata": {},
     "output_type": "execute_result"
    },
    {
     "data": {
      "image/png": "[encoded data removed]",
      "text/plain": [
       "<Figure size 432x288 with 1 Axes>"
      ]
     },
     "metadata": {},
     "output_type": "display_data"
    }
   ],
   "source": [
    "age_df = df.groupby(['age','sex'])[\"suicides/100k_pop\"].mean().to_frame()\n",
    "age_df = age_df.reset_index()\n",
    "sns.barplot(x=\"age\",y=\"suicides/100k_pop\",hue=\"sex\",data=age_df.sort_values(\"suicides/100k_pop\"))"
   ]
  },
  {
   "cell_type": "markdown",
   "id": "9ea15a2d",
   "metadata": {},
   "source": [
    "We can combine 'age' and 'sex' features to create a new feature, 'rank,' depicting the likeliness of suicide. Specifically, grouping by age and sex and calculating the mean of suicides/100k_pop yields the following order."
   ]
  },
  {
   "cell_type": "code",
   "execution_count": 20,
   "id": "6e246e76",
   "metadata": {},
   "outputs": [
    {
     "data": {
      "text/plain": [
       "age          sex   \n",
       "5-14 years   female     0.462252\n",
       "             male       0.777831\n",
       "15-24 years  female     4.328018\n",
       "25-34 years  female     4.573210\n",
       "35-54 years  female     5.916480\n",
       "55-74 years  female     7.123447\n",
       "75+ years    female     9.919802\n",
       "15-24 years  male      13.413683\n",
       "25-34 years  male      19.800560\n",
       "35-54 years  male      23.978402\n",
       "55-74 years  male      25.187712\n",
       "75+ years    male      37.991017\n",
       "Name: suicides/100k_pop, dtype: float64"
      ]
     },
     "execution_count": 20,
     "metadata": {},
     "output_type": "execute_result"
    }
   ],
   "source": [
    "age_sex_rank = df.groupby(['age', 'sex'])['suicides/100k_pop'].mean().sort_values()\n",
    "age_sex_rank"
   ]
  },
  {
   "cell_type": "markdown",
   "id": "f9fde681",
   "metadata": {},
   "source": [
    "We shall categorize order among three ranks [0,1,2] and designate a rank per row based on the ordering above. I.e., females/males of age 5-14 years are assigned a rank of 0."
   ]
  },
  {
   "cell_type": "code",
   "execution_count": 21,
   "id": "8f9a5b41",
   "metadata": {},
   "outputs": [],
   "source": [
    "age_sex_rank.values[:] = np.array([0,0,0,0,1,1,1,1,2,2,2,2])\n",
    "age_sex_rank_dict = age_sex_rank.astype(int).to_dict()\n",
    "df['rank'] = pd.Series( list(zip(df['age'], df['sex'])) ).map(age_sex_rank_dict)\n",
    "df_test['rank'] = pd.Series( list(zip(df_test['age'], df_test['sex'])) ).map(age_sex_rank_dict)"
   ]
  },
  {
   "cell_type": "markdown",
   "id": "80575c27",
   "metadata": {},
   "source": [
    "Below reflects the newly created rank feature correspondence to suicides/100k_pop. "
   ]
  },
  {
   "cell_type": "code",
   "execution_count": 22,
   "id": "2ac5caa4",
   "metadata": {},
   "outputs": [
    {
     "data": {
      "text/plain": [
       "<AxesSubplot:xlabel='rank', ylabel='suicides/100k_pop'>"
      ]
     },
     "execution_count": 22,
     "metadata": {},
     "output_type": "execute_result"
    },
    {
     "data": {
      "image/png": "[encoded data removed]",
      "text/plain": [
       "<Figure size 432x288 with 1 Axes>"
      ]
     },
     "metadata": {},
     "output_type": "display_data"
    }
   ],
   "source": [
    "sns.barplot(x='rank', y='suicides/100k_pop', data=df)"
   ]
  },
  {
   "cell_type": "markdown",
   "id": "92b9db3b",
   "metadata": {},
   "source": [
    "__Replace age with numeric__ "
   ]
  },
  {
   "cell_type": "markdown",
   "id": "ea4257da",
   "metadata": {},
   "source": [
    "Replace age with numeric depicting rank in terms of mean suicides/100k_pop discovered in train dataset. I.e., provided 6 age groups, '5-14 years' assigned rank 0 (lowest mean in suicides/100k_pop) and '75+ years' assigned rank 5 (highest mean in suicides/100k_pop)"
   ]
  },
  {
   "cell_type": "code",
   "execution_count": 23,
   "id": "cf63facc",
   "metadata": {},
   "outputs": [
    {
     "data": {
      "text/plain": [
       "{'5-14 years': 0,\n",
       " '15-24 years': 1,\n",
       " '25-34 years': 2,\n",
       " '35-54 years': 3,\n",
       " '55-74 years': 4,\n",
       " '75+ years': 5}"
      ]
     },
     "execution_count": 23,
     "metadata": {},
     "output_type": "execute_result"
    }
   ],
   "source": [
    "age_rank = df.groupby('age')['suicides/100k_pop'].mean().sort_values()\n",
    "age_rank.values[:] = np.arange(age_rank.shape[0]).astype(np.int32)\n",
    "age_rank_dict = age_rank.astype(int).to_dict()\n",
    "age_rank_dict"
   ]
  },
  {
   "cell_type": "code",
   "execution_count": 24,
   "id": "71ff687b",
   "metadata": {},
   "outputs": [],
   "source": [
    "df.replace({\"age\": age_rank_dict}, inplace=True)\n",
    "df_test.replace({\"age\": age_rank_dict}, inplace=True)"
   ]
  },
  {
   "cell_type": "markdown",
   "id": "d07fba9c",
   "metadata": {},
   "source": [
    "__Replace sex with numeric__"
   ]
  },
  {
   "cell_type": "markdown",
   "id": "9381e379",
   "metadata": {},
   "source": [
    "Repalce sex with binary values - 0 for male, 1 for female"
   ]
  },
  {
   "cell_type": "code",
   "execution_count": 25,
   "id": "7936e2a1",
   "metadata": {},
   "outputs": [],
   "source": [
    "df['sex'].replace({'male':0, 'female':1}, inplace=True)\n",
    "df_test['sex'].replace({'male':0, 'female':1}, inplace=True)"
   ]
  },
  {
   "cell_type": "markdown",
   "id": "0e2b0016",
   "metadata": {},
   "source": [
    "__Correlation Matrix__"
   ]
  },
  {
   "cell_type": "markdown",
   "id": "0266a3f8",
   "metadata": {},
   "source": [
    "Features _rank_, _country_, _age_, and _generation_ are highly correlated with suicides/100k_pop. Thus, we should expect significant coefficients for said features after applying linear regression. "
   ]
  },
  {
   "cell_type": "code",
   "execution_count": 26,
   "id": "174b223a",
   "metadata": {},
   "outputs": [
    {
     "data": {
      "text/html": [
       "<div>\n",
       "<style scoped>\n",
       "    .dataframe tbody tr th:only-of-type {\n",
       "        vertical-align: middle;\n",
       "    }\n",
       "\n",
       "    .dataframe tbody tr th {\n",
       "        vertical-align: top;\n",
       "    }\n",
       "\n",
       "    .dataframe thead th {\n",
       "        text-align: right;\n",
       "    }\n",
       "</style>\n",
       "<table border=\"1\" class=\"dataframe\">\n",
       "  <thead>\n",
       "    <tr style=\"text-align: right;\">\n",
       "      <th></th>\n",
       "      <th>country</th>\n",
       "      <th>sex</th>\n",
       "      <th>age</th>\n",
       "      <th>population</th>\n",
       "      <th>suicides/100k_pop</th>\n",
       "      <th>gdp_per_capita</th>\n",
       "      <th>generation</th>\n",
       "      <th>rank</th>\n",
       "    </tr>\n",
       "  </thead>\n",
       "  <tbody>\n",
       "    <tr>\n",
       "      <th>country</th>\n",
       "      <td>1.000000</td>\n",
       "      <td>0.000367</td>\n",
       "      <td>0.000584</td>\n",
       "      <td>0.078918</td>\n",
       "      <td>0.447737</td>\n",
       "      <td>0.156390</td>\n",
       "      <td>-0.006302</td>\n",
       "      <td>0.000218</td>\n",
       "    </tr>\n",
       "    <tr>\n",
       "      <th>sex</th>\n",
       "      <td>0.000367</td>\n",
       "      <td>1.000000</td>\n",
       "      <td>-0.010254</td>\n",
       "      <td>0.012391</td>\n",
       "      <td>-0.393494</td>\n",
       "      <td>-0.003812</td>\n",
       "      <td>-0.005035</td>\n",
       "      <td>-0.616835</td>\n",
       "    </tr>\n",
       "    <tr>\n",
       "      <th>age</th>\n",
       "      <td>0.000584</td>\n",
       "      <td>-0.010254</td>\n",
       "      <td>1.000000</td>\n",
       "      <td>-0.060401</td>\n",
       "      <td>0.365856</td>\n",
       "      <td>-0.002562</td>\n",
       "      <td>0.911320</td>\n",
       "      <td>0.659629</td>\n",
       "    </tr>\n",
       "    <tr>\n",
       "      <th>population</th>\n",
       "      <td>0.078918</td>\n",
       "      <td>0.012391</td>\n",
       "      <td>-0.060401</td>\n",
       "      <td>1.000000</td>\n",
       "      <td>0.008099</td>\n",
       "      <td>0.081098</td>\n",
       "      <td>-0.059073</td>\n",
       "      <td>-0.006025</td>\n",
       "    </tr>\n",
       "    <tr>\n",
       "      <th>suicides/100k_pop</th>\n",
       "      <td>0.447737</td>\n",
       "      <td>-0.393494</td>\n",
       "      <td>0.365856</td>\n",
       "      <td>0.008099</td>\n",
       "      <td>1.000000</td>\n",
       "      <td>0.001429</td>\n",
       "      <td>0.337070</td>\n",
       "      <td>0.521999</td>\n",
       "    </tr>\n",
       "    <tr>\n",
       "      <th>gdp_per_capita</th>\n",
       "      <td>0.156390</td>\n",
       "      <td>-0.003812</td>\n",
       "      <td>-0.002562</td>\n",
       "      <td>0.081098</td>\n",
       "      <td>0.001429</td>\n",
       "      <td>1.000000</td>\n",
       "      <td>-0.118517</td>\n",
       "      <td>0.000653</td>\n",
       "    </tr>\n",
       "    <tr>\n",
       "      <th>generation</th>\n",
       "      <td>-0.006302</td>\n",
       "      <td>-0.005035</td>\n",
       "      <td>0.911320</td>\n",
       "      <td>-0.059073</td>\n",
       "      <td>0.337070</td>\n",
       "      <td>-0.118517</td>\n",
       "      <td>1.000000</td>\n",
       "      <td>0.591783</td>\n",
       "    </tr>\n",
       "    <tr>\n",
       "      <th>rank</th>\n",
       "      <td>0.000218</td>\n",
       "      <td>-0.616835</td>\n",
       "      <td>0.659629</td>\n",
       "      <td>-0.006025</td>\n",
       "      <td>0.521999</td>\n",
       "      <td>0.000653</td>\n",
       "      <td>0.591783</td>\n",
       "      <td>1.000000</td>\n",
       "    </tr>\n",
       "  </tbody>\n",
       "</table>\n",
       "</div>"
      ],
      "text/plain": [
       "                    country       sex       age  population  \\\n",
       "country            1.000000  0.000367  0.000584    0.078918   \n",
       "sex                0.000367  1.000000 -0.010254    0.012391   \n",
       "age                0.000584 -0.010254  1.000000   -0.060401   \n",
       "population         0.078918  0.012391 -0.060401    1.000000   \n",
       "suicides/100k_pop  0.447737 -0.393494  0.365856    0.008099   \n",
       "gdp_per_capita     0.156390 -0.003812 -0.002562    0.081098   \n",
       "generation        -0.006302 -0.005035  0.911320   -0.059073   \n",
       "rank               0.000218 -0.616835  0.659629   -0.006025   \n",
       "\n",
       "                   suicides/100k_pop  gdp_per_capita  generation      rank  \n",
       "country                     0.447737        0.156390   -0.006302  0.000218  \n",
       "sex                        -0.393494       -0.003812   -0.005035 -0.616835  \n",
       "age                         0.365856       -0.002562    0.911320  0.659629  \n",
       "population                  0.008099        0.081098   -0.059073 -0.006025  \n",
       "suicides/100k_pop           1.000000        0.001429    0.337070  0.521999  \n",
       "gdp_per_capita              0.001429        1.000000   -0.118517  0.000653  \n",
       "generation                  0.337070       -0.118517    1.000000  0.591783  \n",
       "rank                        0.521999        0.000653    0.591783  1.000000  "
      ]
     },
     "execution_count": 26,
     "metadata": {},
     "output_type": "execute_result"
    }
   ],
   "source": [
    "df.corr()"
   ]
  },
  {
   "cell_type": "code",
   "execution_count": 27,
   "id": "9d68e6ec",
   "metadata": {},
   "outputs": [],
   "source": [
    "X_train = df.drop(columns=['suicides/100k_pop'])\n",
    "y_train = df['suicides/100k_pop']\n",
    "\n",
    "X_test = df_test.drop(columns=['suicides/100k_pop'])\n",
    "y_test = df_test['suicides/100k_pop']"
   ]
  },
  {
   "cell_type": "code",
   "execution_count": 28,
   "id": "b5ce9f01",
   "metadata": {},
   "outputs": [],
   "source": [
    "scaler = MinMaxScaler()\n",
    "X_train = scaler.fit_transform(X_train)\n",
    "X_test = scaler.transform(X_test)\n",
    "\n",
    "model = LinearRegression()\n",
    "model.fit(X_train, y_train)\n",
    "y_pred = model.predict(X_test)"
   ]
  },
  {
   "cell_type": "code",
   "execution_count": 29,
   "id": "2c68e1bc",
   "metadata": {},
   "outputs": [
    {
     "data": {
      "text/plain": [
       "Text(0, 0.5, 'Absolute Error')"
      ]
     },
     "execution_count": 29,
     "metadata": {},
     "output_type": "execute_result"
    },
    {
     "data": {
      "image/png": "[encoded data removed]",
      "text/plain": [
       "<Figure size 432x288 with 1 Axes>"
      ]
     },
     "metadata": {},
     "output_type": "display_data"
    }
   ],
   "source": [
    "plt.scatter(y_pred, abs(y_pred - y_test))\n",
    "plt.xlabel('Predicted Value')\n",
    "plt.ylabel(\"Absolute Error\")"
   ]
  },
  {
   "cell_type": "code",
   "execution_count": 30,
   "id": "65c956e4",
   "metadata": {},
   "outputs": [
    {
     "data": {
      "text/plain": [
       "0.5035017129340874"
      ]
     },
     "execution_count": 30,
     "metadata": {},
     "output_type": "execute_result"
    }
   ],
   "source": [
    "model.score(X_test, y_test)"
   ]
  },
  {
   "cell_type": "markdown",
   "id": "d9463041",
   "metadata": {},
   "source": [
    "### What is the MAE error of this prediction?"
   ]
  },
  {
   "cell_type": "code",
   "execution_count": 31,
   "id": "376020df",
   "metadata": {},
   "outputs": [
    {
     "data": {
      "text/plain": [
       "5.813362428196509"
      ]
     },
     "execution_count": 31,
     "metadata": {},
     "output_type": "execute_result"
    }
   ],
   "source": [
    "mean_absolute_error(y_test, y_pred)"
   ]
  },
  {
   "cell_type": "markdown",
   "id": "3e09e56e",
   "metadata": {},
   "source": [
    "### How many regression coefficients are there?"
   ]
  },
  {
   "cell_type": "markdown",
   "id": "01e272bc",
   "metadata": {},
   "source": [
    "The model yields 7 regression coefficients - provided our preprocessing steps incorporated seven features into our linear regression model. "
   ]
  },
  {
   "cell_type": "code",
   "execution_count": 32,
   "id": "ba3a5256",
   "metadata": {},
   "outputs": [
    {
     "data": {
      "text/plain": [
       "7"
      ]
     },
     "execution_count": 32,
     "metadata": {},
     "output_type": "execute_result"
    }
   ],
   "source": [
    "len(model.coef_)"
   ]
  },
  {
   "cell_type": "markdown",
   "id": "f8f4b7ec",
   "metadata": {},
   "source": [
    "## Note any change in these two model performances"
   ]
  },
  {
   "cell_type": "markdown",
   "id": "564b9de2",
   "metadata": {},
   "source": [
    "Yes, converting nominal features into numerical form yields a lower MAE and higher accuracy score upon test set validation. As shown in question one, one-hot encoding nominal features produces a substantial number of coefficients in our linear regression model. Moreover, the computed coefficients are disproportionate and thus introduce noise which negatively affects predictions. While in question two, converting nominal into numerical reduces the number of coefficients. Moreover, applying numerical ranking (instead of one-hot encoding) yields higher correlation to our target variable suicides/100k_pop. E.g., ranking age in terms of mean suicides/100k_pop instead of one-hot encoding. "
   ]
  },
  {
   "cell_type": "markdown",
   "id": "cea7abc5",
   "metadata": {},
   "source": [
    "## Prediction for age 33, male and generation Alpha (i.e. the generation after generation Z)"
   ]
  },
  {
   "cell_type": "code",
   "execution_count": 33,
   "id": "3a8f4c3d",
   "metadata": {},
   "outputs": [
    {
     "name": "stdout",
     "output_type": "stream",
     "text": [
      "Age Group: 25-34 years\n",
      "Sex: Male\n",
      "Generation: Alpha\n",
      "Country Name: Albania\n",
      "Country Rank: 20\n",
      "Population: 234946.38\n",
      "Gdp per capita: 1885.29\n",
      "Rank: 2\n",
      "\n",
      "Predicted suicides/100k_pop: 11.55\n"
     ]
    }
   ],
   "source": [
    "age = 2 # 25-34 years: 2\n",
    "print(\"Age Group: \" + list(age_rank_dict.keys())[list(age_rank_dict.values()).index(age)])\n",
    "sex = 0 # male: 0\n",
    "print(\"Sex: Male\" )\n",
    "generation = 0 # Alpha: 0\n",
    "print(\"Generation: Alpha\")\n",
    "country = np.random.randint(0, 101)\n",
    "print ('Country Name: ' + list(c_rank_dic.keys())[list(c_rank_dic.values()).index(country)] \n",
    "      + '\\nCountry Rank: ' + str(country) )\n",
    "population = round(df[df['country'] == country]['population'].mean(), 2)\n",
    "print(\"Population: \" + str(population) )\n",
    "gdp_per_capita = round(df[df['country'] == country]['gdp_per_capita'].mean(), 2)\n",
    "print(\"Gdp per capita: \" + str(gdp_per_capita) )\n",
    "rank = age_sex_rank_dict[('35-54 years', 'male')]\n",
    "print(\"Rank: \" + str(rank))\n",
    "\n",
    "# Predict\n",
    "X = np.array([country, sex, age, population, gdp_per_capita, generation, rank])\n",
    "X_test = scaler.transform(X.reshape(1,-1))\n",
    "y_pred = model.predict(X_test)\n",
    "print(\"\\nPredicted suicides/100k_pop: \" + str(round(y_pred[0],2)) )"
   ]
  },
  {
   "cell_type": "code",
   "execution_count": null,
   "id": "b9d09848",
   "metadata": {},
   "outputs": [],
   "source": []
  }
 ],
 "metadata": {
  "kernelspec": {
   "display_name": "Python 3 (ipykernel)",
   "language": "python",
   "name": "python3"
  },
  "language_info": {
   "codemirror_mode": {
    "name": "ipython",
    "version": 3
   },
   "file_extension": ".py",
   "mimetype": "text/x-python",
   "name": "python",
   "nbconvert_exporter": "python",
   "pygments_lexer": "ipython3",
   "version": "3.9.7"
  }
 },
 "nbformat": 4,
 "nbformat_minor": 5
}
